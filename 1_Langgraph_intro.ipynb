{
 "cells": [
  {
   "cell_type": "markdown",
   "id": "ce19855a",
   "metadata": {},
   "source": [
    "# State"
   ]
  },
  {
   "cell_type": "markdown",
   "id": "d5d24da5",
   "metadata": {},
   "source": [
    "Start by defining the State of the graph.\n",
    "\n",
    "This state schema acts as the input structure for all Nodes and Edges within the graph."
   ]
  },
  {
   "cell_type": "code",
   "execution_count": null,
   "id": "5f6974b5",
   "metadata": {},
   "outputs": [],
   "source": [
    "from typing import TypedDict\n",
    "\n",
    "class State(TypedDict):\n",
    "    graph_state: str"
   ]
  },
  {
   "cell_type": "markdown",
   "id": "e3735704",
   "metadata": {},
   "source": [
    "# Nodes"
   ]
  },
  {
   "cell_type": "markdown",
   "id": "0df0270d",
   "metadata": {},
   "source": [
    "**Nodes are simply Python functions.**\n",
    "\n",
    "Each node takes the state as its first positional argument, based on the previously defined `TypedDict` schema.\n",
    "\n",
    "Since the state includes a `graph_state` key, each node can access it using `state['graph_state']`.\n",
    "\n",
    "> Each node returns an updated value for graph_state, and by default, this new value will overwrite the existing one in the state."
   ]
  },
  {
   "cell_type": "code",
   "execution_count": null,
   "id": "9edfc359",
   "metadata": {},
   "outputs": [],
   "source": [
    "def node_1(state):\n",
    "    print(\"---Node 1---\")\n",
    "    return {\"graph_state\": state['graph_state'] +\" Welcome\"}\n",
    "\n",
    "def node_2(state):\n",
    "    print(\"---Node 2---\")\n",
    "    return {\"graph_state\": state['graph_state'] +\" to the DataHack Summit!\"}\n",
    "\n",
    "def node_3(state):\n",
    "    print(\"---Node 3---\")\n",
    "    return {\"graph_state\": state['graph_state'] +\" to Bengaluru!\"}\n"
   ]
  },
  {
   "cell_type": "markdown",
   "id": "d2823766",
   "metadata": {},
   "source": [
    "# Edges"
   ]
  },
  {
   "cell_type": "markdown",
   "id": "004bb0a6",
   "metadata": {},
   "source": [
    "Edges define the connections between nodes in the graph.\n",
    "\n",
    "* **Normal edges** are used when you always want to transition from one node to another—for example, from `node_1` to `node_2`.\n",
    "\n",
    "* **Conditional edges** allow for **dynamic routing** based on logic. These are implemented as functions that evaluate the current state and return the name of the next node to execute."
   ]
  },
  {
   "cell_type": "code",
   "execution_count": null,
   "id": "c66a4845",
   "metadata": {},
   "outputs": [],
   "source": [
    "import random\n",
    "from typing import Literal\n",
    "\n",
    "def decide_node(state) -> Literal[\"node_2\", \"node_3\"]:\n",
    "\n",
    "    user_input = state['graph_state']\n",
    "\n",
    "    if random.random() < 0.5:\n",
    "        return \"node_2\"\n",
    "\n",
    "    return \"node_3\""
   ]
  },
  {
   "cell_type": "markdown",
   "id": "15174d3c",
   "metadata": {},
   "source": [
    "# Graph Workflow\n"
   ]
  },
  {
   "cell_type": "code",
   "execution_count": null,
   "id": "14784249",
   "metadata": {},
   "outputs": [],
   "source": [
    "from IPython.display import Image, display\n",
    "from langgraph.graph import StateGraph, START, END\n",
    "\n",
    "# Build graph\n",
    "builder = StateGraph(State)\n",
    "\n",
    "# Defining the nodes\n",
    "builder.add_node(\"node_1\", node_1)\n",
    "builder.add_node(\"node_2\", node_2)\n",
    "builder.add_node(\"node_3\", node_3)\n",
    "\n",
    "# Defining the edges\n",
    "builder.add_edge(START, \"node_1\")\n",
    "builder.add_conditional_edges(\"node_1\", decide_node)\n",
    "builder.add_edge(\"node_2\", END)\n",
    "builder.add_edge(\"node_3\", END)\n",
    "\n",
    "# Compile the Graph\n",
    "graph = builder.compile()\n",
    "\n",
    "# Display the Graph\n",
    "display(Image(graph.get_graph().draw_mermaid_png()))"
   ]
  },
  {
   "cell_type": "markdown",
   "id": "210bf406",
   "metadata": {},
   "source": [
    "# Graph Execution\n"
   ]
  },
  {
   "cell_type": "code",
   "execution_count": null,
   "id": "d260ca56",
   "metadata": {},
   "outputs": [],
   "source": [
    "graph.invoke({\"graph_state\" : \"Hi there, it's Parthiban K!\"})"
   ]
  }
 ],
 "metadata": {
  "language_info": {
   "name": "python"
  }
 },
 "nbformat": 4,
 "nbformat_minor": 5
}
