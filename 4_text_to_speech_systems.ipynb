{
 "cells": [
  {
   "cell_type": "code",
   "execution_count": null,
   "id": "935172ef",
   "metadata": {},
   "outputs": [],
   "source": [
    "import os, getpass\n",
    "\n",
    "def _set_env(var:str):\n",
    "    if not os.environ.get(var):\n",
    "        os.environ[var] = getpass.getpass(f\"{var}: \")\n",
    "\n",
    "_set_env(\"ELEVENLABS_API_KEY\")"
   ]
  },
  {
   "cell_type": "code",
   "execution_count": null,
   "id": "bdd226b0",
   "metadata": {},
   "outputs": [],
   "source": [
    "msg = \"Hello world, welcome to my testing and cloning of neuralmaze langgraph workshop\""
   ]
  },
  {
   "cell_type": "code",
   "execution_count": null,
   "id": "52fd3e9d",
   "metadata": {},
   "outputs": [],
   "source": [
    "voice_id = \"T8lgQl6x5PSdhmmWx42m\" \n",
    "model_id = \"eleven_flash_v2_5\""
   ]
  },
  {
   "cell_type": "code",
   "execution_count": null,
   "id": "b57cfe72",
   "metadata": {},
   "outputs": [],
   "source": [
    "from elevenlabs.client import ElevenLabs\n",
    "\n",
    "import os\n",
    "\n",
    "client = ElevenLabs(\n",
    "    api_key = os.getenv(\"ELEVENLABS_API_KEY\")\n",
    ")\n",
    "\n",
    "audio = client.text_to_speech_convert(\n",
    "    text = msg,\n",
    "    voice_id = voice_id,\n",
    "    model_id = model_id,\n",
    ")\n",
    "\n",
    "audio_bytes = b\"\".join(audio)"
   ]
  },
  {
   "cell_type": "code",
   "execution_count": null,
   "id": "3aac7a5e",
   "metadata": {},
   "outputs": [],
   "source": [
    "with open(\"audio.mp3\",\"wb\") as f:\n",
    "    f.write(audio_bytes)"
   ]
  },
  {
   "cell_type": "code",
   "execution_count": null,
   "id": "ad4bc14a",
   "metadata": {},
   "outputs": [],
   "source": [
    "from IPython.display import Audio\n",
    "\n",
    "Audio(\"audio.mp3\")"
   ]
  }
 ],
 "metadata": {
  "language_info": {
   "name": "python"
  }
 },
 "nbformat": 4,
 "nbformat_minor": 5
}
