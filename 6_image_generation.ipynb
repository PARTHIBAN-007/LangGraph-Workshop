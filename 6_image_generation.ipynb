{
 "cells": [
  {
   "cell_type": "code",
   "execution_count": null,
   "id": "af705fe9",
   "metadata": {},
   "outputs": [],
   "source": [
    "import os, getpass\n",
    "\n",
    "def _set_env(var: str):\n",
    "    if not os.environ.get(var):\n",
    "        os.environ[var] = getpass.getpass(f\"{var}: \")\n",
    "\n",
    "_set_env(\"OPENAI_API_KEY\")"
   ]
  },
  {
   "cell_type": "code",
   "execution_count": null,
   "id": "e1046a27",
   "metadata": {},
   "outputs": [],
   "source": [
    "prompt = \"\"\"\n",
    "Create a high quality and realistic image of Tony Stark (Iron Man):\n",
    "\n",
    "# Appearance\n",
    "Age: Appears to be in his early 40s.\n",
    "\n",
    "Skin Tone: Light to medium complexion with a healthy glow.\n",
    "\n",
    "Facial Hair: Iconic Tony Stark goatee — precisely groomed.\n",
    "\n",
    "Hair: Thick, dark brown hair, styled with a slight wave and sharp side part.\n",
    "\n",
    "Expression: Confident and slightly smirking — classic Tony Stark charm.\n",
    "\n",
    "# Clothing & Accessories\n",
    "Outfit: A stylish dark suit jacket worn over a futuristic, glowing arc reactor visible beneath a partially unbuttoned shirt.\n",
    "Accessories: Sleek smart watch on wrist, subtle metallic details hinting at nanotech integration.\n",
    "\n",
    "# Background\n",
    "Tony is in his high-tech Stark Industries lab — full of holographic blue displays, Iron Man suit parts, and advanced equipment.\n",
    "Lighting is cinematic, cool blue tones with warm highlights from the arc reactor glow.\n",
    "Background should be slightly blurred to emphasize Tony Stark as the focal point.\n",
    "\n",
    "# Rules\n",
    "- Do NOT generate text, logos, or labels in the image.\n",
    "- Focus on realism and detail — blend the business and tech genius aesthetic.\n",
    "- Do NOT show any battle scenes — this should capture Tony in a calm, genius-in-action moment.\n",
    "\"\"\"\n"
   ]
  },
  {
   "cell_type": "code",
   "execution_count": null,
   "id": "8dd9b9d5",
   "metadata": {},
   "outputs": [],
   "source": [
    "import base64\n",
    "from io import BytesIO\n",
    "from PIL import Image\n",
    "\n",
    "from openai import OpenAI\n",
    "\n",
    "\n",
    "client = OpenAI()\n",
    "\n",
    "result = client.images.generate(\n",
    "    model=\"gpt-image-1\",\n",
    "    prompt=prompt,\n",
    "    quality=\"high\",\n",
    "    size=\"1024x1024\",\n",
    ")\n",
    "\n",
    "image_base64 = result.data[0].b64_json\n",
    "image_bytes = base64.b64decode(image_base64)\n",
    "\n",
    "image = Image.open(BytesIO(image_bytes))\n",
    "image.save(\"Iron_Man.png\")"
   ]
  },
  {
   "cell_type": "code",
   "execution_count": null,
   "id": "f101d9bb",
   "metadata": {},
   "outputs": [],
   "source": [
    "Image.open(\"./Iron_Man.png\").resize((512, 512))"
   ]
  }
 ],
 "metadata": {
  "language_info": {
   "name": "python"
  }
 },
 "nbformat": 4,
 "nbformat_minor": 5
}
