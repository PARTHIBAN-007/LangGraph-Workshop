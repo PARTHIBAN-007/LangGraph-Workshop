{
 "cells": [
  {
   "cell_type": "code",
   "execution_count": null,
   "id": "22a8ba41",
   "metadata": {},
   "outputs": [],
   "source": [
    "import os , getpass\n",
    "\n",
    "def _set_env(var:str):\n",
    "    if not os.environ.get(var):\n",
    "        os.environ[var] = getpass.getpass(f\"{var}: \")\n",
    "\n",
    "_set_env(\"OPENAI_API_KEY\")\n",
    "_set_env(\"ELEVENLABS_API_KEY\")\n",
    "_set_env(\"TELEGRAM_BOT_TOKEN\")\n"
   ]
  },
  {
   "cell_type": "code",
   "execution_count": null,
   "id": "ea742f33",
   "metadata": {},
   "outputs": [],
   "source": [
    "import os\n",
    "import gdown\n",
    "import random\n",
    "import base64\n",
    "import PIL\n",
    "from io import BytesIO\n",
    "from uuid import uuid4\n",
    "import nest_asyncio\n",
    "\n",
    "\n",
    "from IPython.display import Image, display\n",
    "\n",
    "from typing_extensions import Literal\n",
    "from pydantic import BaseModel , Field\n",
    "\n",
    "from tenacity import retry, stop_after_attempt, wait_exponential , retry_if_exception_type\n",
    "\n",
    "import sqlite3\n",
    "import chromadb\n",
    "\n",
    "\n",
    "from langchain_openai import ChatOpenAI , OpenAIEmbeddings\n",
    "from langchain_community.document_loaders import PyPDFLoader\n",
    "from langchain_text_splitters import RecursiveCharacterTextSplitter\n",
    "from langchain_chroma import Chroma\n",
    "from langchain_core.tools.retriever import create_retriever_tool\n",
    "from langchain_core.messages import SystemMessage, HumanMessage, RemoveMessage\n",
    "\n",
    "from langgraph.graph import MessageState, StateGraph , START , END\n",
    "from langgraph.checkpoint.sqlite import SqliteSaver\n",
    "from langgraph.prebuilt import ToolNode, tools_condition\n",
    "\n",
    "\n",
    "from elevenlabs.client import ElevenLabs\n",
    "from openai import OpenAI\n",
    "\n",
    "from telegram import Update\n",
    "from telegram.ext import (\n",
    "    Application, \n",
    "    MesssageHandler,\n",
    "    ContextTypes,\n",
    "    filters,\n",
    ")\n",
    "\n",
    "llm = ChatOpenAI(model =\"gpt-4o-mini\")\n",
    "\n",
    "openai_client = OpenAI()\n",
    "\n"
   ]
  }
 ],
 "metadata": {
  "language_info": {
   "name": "python"
  }
 },
 "nbformat": 4,
 "nbformat_minor": 5
}
