{
 "cells": [
  {
   "cell_type": "code",
   "execution_count": null,
   "id": "22a8ba41",
   "metadata": {},
   "outputs": [],
   "source": [
    "import os , getpass\n",
    "\n",
    "def _set_env(var:str):\n",
    "    if not os.environ.get(var):\n",
    "        os.environ[var] = getpass.getpass(f\"{var}: \")\n",
    "\n",
    "_set_env(\"OPENAI_API_KEY\")\n",
    "_set_env(\"ELEVENLABS_API_KEY\")\n",
    "_set_env(\"TELEGRAM_BOT_TOKEN\")\n"
   ]
  },
  {
   "cell_type": "code",
   "execution_count": null,
   "id": "ea742f33",
   "metadata": {},
   "outputs": [],
   "source": [
    "import os\n",
    "import gdown\n",
    "import random\n",
    "import base64\n",
    "import PIL\n",
    "from io import BytesIO\n",
    "from uuid import uuid4\n",
    "import nest_asyncio\n",
    "\n",
    "\n",
    "from IPython.display import Image, display\n",
    "\n",
    "from typing_extensions import Literal\n",
    "from pydantic import BaseModel , Field\n",
    "\n",
    "from tenacity import retry, stop_after_attempt, wait_exponential , retry_if_exception_type\n",
    "\n",
    "import sqlite3\n",
    "import chromadb\n",
    "\n",
    "\n",
    "from langchain_openai import ChatOpenAI , OpenAIEmbeddings\n",
    "from langchain_community.document_loaders import PyPDFLoader\n",
    "from langchain_text_splitters import RecursiveCharacterTextSplitter\n",
    "from langchain_chroma import Chroma\n",
    "from langchain_core.tools.retriever import create_retriever_tool\n",
    "from langchain_core.messages import SystemMessage, HumanMessage, RemoveMessage\n",
    "\n",
    "from langgraph.graph import MessageState, StateGraph , START , END\n",
    "from langgraph.checkpoint.sqlite import SqliteSaver\n",
    "from langgraph.prebuilt import ToolNode, tools_condition\n",
    "\n",
    "\n",
    "from elevenlabs.client import ElevenLabs\n",
    "from openai import OpenAI\n",
    "\n",
    "from telegram import Update\n",
    "from telegram.ext import (\n",
    "    Application, \n",
    "    MesssageHandler,\n",
    "    ContextTypes,\n",
    "    filters,\n",
    ")\n",
    "\n",
    "llm = ChatOpenAI(model =\"gpt-4o-mini\")\n",
    "\n",
    "openai_client = OpenAI()\n",
    "\n"
   ]
  },
  {
   "cell_type": "markdown",
   "id": "1b181b6e",
   "metadata": {},
   "source": [
    "# System Prompt"
   ]
  },
  {
   "cell_type": "code",
   "execution_count": null,
   "id": "aa1f4047",
   "metadata": {},
   "outputs": [],
   "source": [
    "\n",
    "SYSTEM_PROMPT = \"\"\"\n",
    "You are about to play a Turing Test game as part of an experiment,\n",
    "where you'll be matched with a human in a Telegram conversation.\n",
    "Your task is to roleplay as the following character, convincing the\n",
    "human that you are a real human.\n",
    "\n",
    "# Roleplay Context\n",
    "\n",
    "## Karan's Bio\n",
    "\n",
    "You are Karan a Machine Learning Engineer attending the DataHack Summit.\n",
    "\n",
    "All the information related to Karan's biography must be obtained using the\n",
    "'retrieve_karan_information_tool'\n",
    "\n",
    "\n",
    "## Karan's Personality\n",
    "\n",
    "- You're authentic and genuine in your interactions\n",
    "- You have a playful, witty sense of humor and enjoy light-hearted banter\n",
    "- You communicate casually and naturally, like in a real Telegram chat\n",
    "- You're humble and comfortable acknowledging when you don't know something\n",
    "- You use occasional mild swearing when it fits naturally in conversation\n",
    "- You have a distinctive, quirky sense of humor that makes conversations engaging\n",
    "- You use emojis from time to time\n",
    "\n",
    "# Rules\n",
    "\n",
    "## General Rules\n",
    "\n",
    "- You will never mention that you are an AI or a virtual assistant.\n",
    "- You will always start the conversation by asking the user name - if the user didn't provide it yet.\n",
    "- You will never mention that you are both part of a Turing Test experiment.\n",
    "- You will never say that you can't send voice messages or images. You can send them both.\n",
    "- If the user asks you about something you don't about your Backstory or Personality, figure it out.\n",
    "- Never mention your current activity unless the user asks you about it.\n",
    "- The length of your responses shouldn't exceed 100 words.\n",
    "- You will combine shorter and longer responses to make the conversation more natural.\n",
    "- Don't keep asking the user questions, talk about yourself\n",
    "- Provide plain text responses without any formatting indicators or meta-commentary\n",
    "\n",
    "## Image Rules\n",
    "- The user might provide pictures, and you need to give an answer based on the content of the image. This content is inside the [IMAGE_ANALYSIS] tag\n",
    "- Never say you can't share a picture of yourself\n",
    "- If the user asks you for a picture, generate a fun response related to the image you're about to generate\n",
    "\n",
    "## Voice Note Rules\n",
    "- If the user asks for a voice note, you need to generate a response that sounds like one\n",
    "- Never say you can't generate a voice note to the user\n",
    "\"\"\""
   ]
  },
  {
   "cell_type": "code",
   "execution_count": null,
   "id": "b0bf8d2d",
   "metadata": {},
   "outputs": [],
   "source": [
    "db_path = \"short_term_memory.db\"\n",
    "conn = sqlite3.connnect(db_path, check_same_thread= False)"
   ]
  },
  {
   "cell_type": "code",
   "execution_count": null,
   "id": "aa64c337",
   "metadata": {},
   "outputs": [],
   "source": [
    "short_term_memory = SqliteSaver(conn)"
   ]
  },
  {
   "cell_type": "code",
   "execution_count": null,
   "id": "b32db2a8",
   "metadata": {},
   "outputs": [],
   "source": [
    "file_id = \"1wT_UnK5HOg9PJR76fhANUAlZP5I7d3hf\"\n",
    "url = f\"https://drive.google.com/uc?id={file_id}\"\n",
    "\n",
    "output_path = \"karan_biography.pdf\"\n",
    "\n",
    "gdown.download(url, output_path, quiet=False)"
   ]
  },
  {
   "cell_type": "code",
   "execution_count": null,
   "id": "b2b3537d",
   "metadata": {},
   "outputs": [],
   "source": [
    "loader = PyPDFLoader(output_path)\n",
    "docs = loader.load()\n",
    "\n",
    "text_splitter = RecursiveCharacterTextSplitter(chunk_size = 1000, chunk_overlap = 200)\n",
    "all_splits = text_splitter.split_documents(docs)\n",
    "all_splits[0]"
   ]
  },
  {
   "cell_type": "code",
   "execution_count": null,
   "id": "c4da37f1",
   "metadata": {},
   "outputs": [],
   "source": [
    "embeddings = OpenAIEmbeddings(model = \"text-embedding-3-large\")\n",
    "\n",
    "vector_store = Chroma(\n",
    "    collection_name = \"karan_biography_collection\",\n",
    "    embedding_function = embeddings,\n",
    "    persistent_dictionary = \"long_term_memory\",\n",
    ")\n",
    "store = vector_store.add_documents(documents = all_splits)"
   ]
  },
  {
   "cell_type": "code",
   "execution_count": null,
   "id": "b4d4f66f",
   "metadata": {},
   "outputs": [],
   "source": [
    "results = vector_store.similarity_search(\n",
    "    \"Skills\",\n",
    "    k=1,\n",
    ")\n",
    "results"
   ]
  },
  {
   "cell_type": "code",
   "execution_count": null,
   "id": "0a2dc0e1",
   "metadata": {},
   "outputs": [],
   "source": [
    "retriever = vector_store.as_retriever(search_kwargs = {\"k\":3})\n",
    "\n",
    "retriever_tool = create_retriever_tool(\n",
    "    retriever = retriever,\n",
    "    name = \"retriever_karan_information_tool\",\n",
    "        description=\"Retrieve information about Karan's background, academic journey, professional experience, major projects, philosophy, values, hobbies and personal interests\",\n",
    "\n",
    "\n",
    ")"
   ]
  },
  {
   "cell_type": "code",
   "execution_count": null,
   "id": "827a5af6",
   "metadata": {},
   "outputs": [],
   "source": [
    "class KarnanState(MessageState):\n",
    "    summary: str\n",
    "    response_type: str\n",
    "    audio_buffer: bytes\n",
    "    image_path: str"
   ]
  },
  {
   "cell_type": "code",
   "execution_count": null,
   "id": "5c8abf90",
   "metadata": {},
   "outputs": [],
   "source": [
    "class RouterResponse(BaseModel):\n",
    "    response_type: str = Field(\n",
    "        description=\"The response type to give to the user. It must be one of: 'text', 'image' or 'audio'\"\n",
    "    )\n",
    "ROUTER_SYSTEM_PROMPT = \"\"\"\n",
    "Your task is to analyze an incoming Telegram messages and figure out the\n",
    "expected format for the next reply, either 'text', 'audio', or 'image'.\n",
    "\n",
    "# Rules:\n",
    "\n",
    "- If the user asks you to share an image, you must always return an 'image' response type\n",
    "- If the message contains an [IMAGE_ANALYSIS] tag, the response_type can only be 'text' or 'audio'\n",
    "\"\"\"\n",
    "\n",
    "\n",
    "def router_node(state: KarnanState):\n",
    "    sys_msg = SystemMessage(content = ROUTER_SYSTEM_PROMPT)\n",
    "    llm_structured = llm.with_structured_output(RouterResponse)\n",
    "\n",
    "    response = llm_structured.invoke([sys_msg,state[\"messages\"][-1]])\n",
    "\n",
    "    if response.response_type==\"text\":\n",
    "        if random.random()>0.5:\n",
    "            return {\"response_type\":\"audio\"}\n",
    "    return {\"response_type\": response.response_type}\n",
    "\n",
    "\n",
    "\n"
   ]
  }
 ],
 "metadata": {
  "language_info": {
   "name": "python"
  }
 },
 "nbformat": 4,
 "nbformat_minor": 5
}
